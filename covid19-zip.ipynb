{
 "cells": [
  {
   "cell_type": "code",
   "execution_count": 40,
   "metadata": {},
   "outputs": [],
   "source": [
    "import pandas as pd\n",
    "import numpy as np\n",
    "import math\n",
    "from datetime import date\n",
    "from datetime import datetime"
   ]
  },
  {
   "cell_type": "markdown",
   "metadata": {},
   "source": [
    "# set file name  - Confirmed, Deaths, Recovered\n",
    "# set country of interest"
   ]
  },
  {
   "cell_type": "code",
   "execution_count": 26,
   "metadata": {},
   "outputs": [],
   "source": [
    "filename = 'Confirmed'\n",
    "country = 'US'"
   ]
  },
  {
   "cell_type": "code",
   "execution_count": 27,
   "metadata": {},
   "outputs": [],
   "source": [
    "dt = datetime.now().strftime('%Y%m%d')"
   ]
  },
  {
   "cell_type": "markdown",
   "metadata": {},
   "source": [
    "Covid 19 cases data from CSSE"
   ]
  },
  {
   "cell_type": "code",
   "execution_count": 28,
   "metadata": {},
   "outputs": [],
   "source": [
    "df = pd.read_csv('covid_data/csse_covid_19_data/csse_covid_19_time_series/time_series_19-covid-' + filename + '.csv')"
   ]
  },
  {
   "cell_type": "code",
   "execution_count": 29,
   "metadata": {},
   "outputs": [
    {
     "data": {
      "text/plain": [
       "(450, 58)"
      ]
     },
     "execution_count": 29,
     "metadata": {},
     "output_type": "execute_result"
    }
   ],
   "source": [
    "df.shape"
   ]
  },
  {
   "cell_type": "code",
   "execution_count": 30,
   "metadata": {},
   "outputs": [
    {
     "data": {
      "text/plain": [
       "array(['Thailand', 'Japan', 'Singapore', 'Nepal', 'Malaysia', 'Canada',\n",
       "       'Australia', 'Cambodia', 'Sri Lanka', 'Germany', 'Finland',\n",
       "       'United Arab Emirates', 'Philippines', 'India', 'Italy', 'Sweden',\n",
       "       'Spain', 'Belgium', 'Egypt', 'Lebanon', 'Iraq', 'Oman',\n",
       "       'Afghanistan', 'Bahrain', 'Kuwait', 'Algeria', 'Croatia',\n",
       "       'Switzerland', 'Austria', 'Israel', 'Pakistan', 'Brazil',\n",
       "       'Georgia', 'Greece', 'North Macedonia', 'Norway', 'Romania',\n",
       "       'Estonia', 'Netherlands', 'San Marino', 'Belarus', 'Iceland',\n",
       "       'Lithuania', 'Mexico', 'New Zealand', 'Nigeria', 'Ireland',\n",
       "       'Luxembourg', 'Monaco', 'Qatar', 'Ecuador', 'Azerbaijan',\n",
       "       'Armenia', 'Dominican Republic', 'Indonesia', 'Portugal',\n",
       "       'Andorra', 'Latvia', 'Morocco', 'Saudi Arabia', 'Senegal',\n",
       "       'Argentina', 'Chile', 'Jordan', 'Ukraine', 'Hungary',\n",
       "       'Liechtenstein', 'Poland', 'Tunisia', 'Bosnia and Herzegovina',\n",
       "       'Slovenia', 'South Africa', 'Bhutan', 'Cameroon', 'Colombia',\n",
       "       'Costa Rica', 'Peru', 'Serbia', 'Slovakia', 'Togo', 'Malta',\n",
       "       'Martinique', 'Bulgaria', 'Maldives', 'Bangladesh', 'Paraguay',\n",
       "       'Albania', 'Cyprus', 'Brunei', 'US', 'Burkina Faso', 'Holy See',\n",
       "       'Mongolia', 'Panama', 'China', 'Iran', 'Korea, South', 'France',\n",
       "       'Cruise Ship', 'Denmark', 'Czechia', 'Taiwan*', 'Vietnam',\n",
       "       'Russia', 'Moldova', 'Bolivia', 'Honduras', 'United Kingdom',\n",
       "       'Congo (Kinshasa)', \"Cote d'Ivoire\", 'Jamaica', 'Reunion',\n",
       "       'Turkey', 'Cuba', 'Guyana', 'Kazakhstan', 'Cayman Islands',\n",
       "       'Guadeloupe', 'Ethiopia', 'Sudan', 'Guinea', 'Aruba', 'Kenya',\n",
       "       'Antigua and Barbuda', 'Uruguay', 'Ghana', 'Jersey', 'Namibia',\n",
       "       'Seychelles', 'Trinidad and Tobago', 'Venezuela', 'Curacao',\n",
       "       'Eswatini', 'Gabon', 'Guatemala', 'Guernsey', 'Mauritania',\n",
       "       'Rwanda', 'Saint Lucia', 'Saint Vincent and the Grenadines',\n",
       "       'Suriname', 'occupied Palestinian territory', 'Kosovo',\n",
       "       'Central African Republic', 'Congo (Brazzaville)',\n",
       "       'Equatorial Guinea', 'Uzbekistan'], dtype=object)"
      ]
     },
     "execution_count": 30,
     "metadata": {},
     "output_type": "execute_result"
    }
   ],
   "source": [
    "df['Country/Region'].unique()"
   ]
  },
  {
   "cell_type": "code",
   "execution_count": 31,
   "metadata": {},
   "outputs": [],
   "source": [
    "df1 = df[df['Country/Region'] == country]"
   ]
  },
  {
   "cell_type": "code",
   "execution_count": 32,
   "metadata": {},
   "outputs": [
    {
     "data": {
      "text/plain": [
       "(1, 58)"
      ]
     },
     "execution_count": 32,
     "metadata": {},
     "output_type": "execute_result"
    }
   ],
   "source": [
    "df1.shape"
   ]
  },
  {
   "cell_type": "code",
   "execution_count": 33,
   "metadata": {},
   "outputs": [],
   "source": [
    "df2 = pd.melt(df1, id_vars = ['Province/State', 'Country/Region', 'Lat', 'Long'], var_name = 'period', value_name = 'case_counts')"
   ]
  },
  {
   "cell_type": "code",
   "execution_count": 34,
   "metadata": {},
   "outputs": [],
   "source": [
    "df3 = df2[df2['case_counts'] > 0]"
   ]
  },
  {
   "cell_type": "code",
   "execution_count": 35,
   "metadata": {},
   "outputs": [
    {
     "data": {
      "text/plain": [
       "(24, 6)"
      ]
     },
     "execution_count": 35,
     "metadata": {},
     "output_type": "execute_result"
    }
   ],
   "source": [
    "df3.shape"
   ]
  },
  {
   "cell_type": "code",
   "execution_count": 36,
   "metadata": {},
   "outputs": [],
   "source": [
    "df3.to_csv('Clean_' + country + '_' + filename + '_' + dt + '.csv')"
   ]
  },
  {
   "cell_type": "code",
   "execution_count": 37,
   "metadata": {},
   "outputs": [
    {
     "data": {
      "text/html": [
       "<div>\n",
       "<style scoped>\n",
       "    .dataframe tbody tr th:only-of-type {\n",
       "        vertical-align: middle;\n",
       "    }\n",
       "\n",
       "    .dataframe tbody tr th {\n",
       "        vertical-align: top;\n",
       "    }\n",
       "\n",
       "    .dataframe thead th {\n",
       "        text-align: right;\n",
       "    }\n",
       "</style>\n",
       "<table border=\"1\" class=\"dataframe\">\n",
       "  <thead>\n",
       "    <tr style=\"text-align: right;\">\n",
       "      <th></th>\n",
       "      <th>Province/State</th>\n",
       "      <th>Country/Region</th>\n",
       "      <th>Lat</th>\n",
       "      <th>Long</th>\n",
       "      <th>period</th>\n",
       "      <th>case_counts</th>\n",
       "    </tr>\n",
       "  </thead>\n",
       "  <tbody>\n",
       "    <tr>\n",
       "      <th>30</th>\n",
       "      <td>NaN</td>\n",
       "      <td>Italy</td>\n",
       "      <td>43.0</td>\n",
       "      <td>12.0</td>\n",
       "      <td>2/21/20</td>\n",
       "      <td>1</td>\n",
       "    </tr>\n",
       "    <tr>\n",
       "      <th>31</th>\n",
       "      <td>NaN</td>\n",
       "      <td>Italy</td>\n",
       "      <td>43.0</td>\n",
       "      <td>12.0</td>\n",
       "      <td>2/22/20</td>\n",
       "      <td>2</td>\n",
       "    </tr>\n",
       "    <tr>\n",
       "      <th>32</th>\n",
       "      <td>NaN</td>\n",
       "      <td>Italy</td>\n",
       "      <td>43.0</td>\n",
       "      <td>12.0</td>\n",
       "      <td>2/23/20</td>\n",
       "      <td>3</td>\n",
       "    </tr>\n",
       "    <tr>\n",
       "      <th>33</th>\n",
       "      <td>NaN</td>\n",
       "      <td>Italy</td>\n",
       "      <td>43.0</td>\n",
       "      <td>12.0</td>\n",
       "      <td>2/24/20</td>\n",
       "      <td>7</td>\n",
       "    </tr>\n",
       "    <tr>\n",
       "      <th>34</th>\n",
       "      <td>NaN</td>\n",
       "      <td>Italy</td>\n",
       "      <td>43.0</td>\n",
       "      <td>12.0</td>\n",
       "      <td>2/25/20</td>\n",
       "      <td>10</td>\n",
       "    </tr>\n",
       "  </tbody>\n",
       "</table>\n",
       "</div>"
      ],
      "text/plain": [
       "   Province/State Country/Region   Lat  Long   period  case_counts\n",
       "30            NaN          Italy  43.0  12.0  2/21/20            1\n",
       "31            NaN          Italy  43.0  12.0  2/22/20            2\n",
       "32            NaN          Italy  43.0  12.0  2/23/20            3\n",
       "33            NaN          Italy  43.0  12.0  2/24/20            7\n",
       "34            NaN          Italy  43.0  12.0  2/25/20           10"
      ]
     },
     "execution_count": 37,
     "metadata": {},
     "output_type": "execute_result"
    }
   ],
   "source": [
    "df3.head()"
   ]
  },
  {
   "cell_type": "markdown",
   "metadata": {},
   "source": [
    "# Local level"
   ]
  },
  {
   "cell_type": "code",
   "execution_count": 109,
   "metadata": {},
   "outputs": [],
   "source": [
    "zipmap = pd.read_csv('zipcodemap/us-zip-code-latitude-and-longitude.csv', sep = ';')"
   ]
  },
  {
   "cell_type": "code",
   "execution_count": 110,
   "metadata": {},
   "outputs": [
    {
     "data": {
      "text/html": [
       "<div>\n",
       "<style scoped>\n",
       "    .dataframe tbody tr th:only-of-type {\n",
       "        vertical-align: middle;\n",
       "    }\n",
       "\n",
       "    .dataframe tbody tr th {\n",
       "        vertical-align: top;\n",
       "    }\n",
       "\n",
       "    .dataframe thead th {\n",
       "        text-align: right;\n",
       "    }\n",
       "</style>\n",
       "<table border=\"1\" class=\"dataframe\">\n",
       "  <thead>\n",
       "    <tr style=\"text-align: right;\">\n",
       "      <th></th>\n",
       "      <th>Zip</th>\n",
       "      <th>City</th>\n",
       "      <th>State</th>\n",
       "      <th>Latitude</th>\n",
       "      <th>Longitude</th>\n",
       "      <th>Timezone</th>\n",
       "      <th>Daylight savings time flag</th>\n",
       "      <th>geopoint</th>\n",
       "    </tr>\n",
       "  </thead>\n",
       "  <tbody>\n",
       "    <tr>\n",
       "      <th>0</th>\n",
       "      <td>71937</td>\n",
       "      <td>Cove</td>\n",
       "      <td>AR</td>\n",
       "      <td>34.398483</td>\n",
       "      <td>-94.39398</td>\n",
       "      <td>-6</td>\n",
       "      <td>1</td>\n",
       "      <td>34.398483,-94.39398</td>\n",
       "    </tr>\n",
       "    <tr>\n",
       "      <th>1</th>\n",
       "      <td>72044</td>\n",
       "      <td>Edgemont</td>\n",
       "      <td>AR</td>\n",
       "      <td>35.624351</td>\n",
       "      <td>-92.16056</td>\n",
       "      <td>-6</td>\n",
       "      <td>1</td>\n",
       "      <td>35.624351,-92.16056</td>\n",
       "    </tr>\n",
       "    <tr>\n",
       "      <th>2</th>\n",
       "      <td>56171</td>\n",
       "      <td>Sherburn</td>\n",
       "      <td>MN</td>\n",
       "      <td>43.660847</td>\n",
       "      <td>-94.74357</td>\n",
       "      <td>-6</td>\n",
       "      <td>1</td>\n",
       "      <td>43.660847,-94.74357</td>\n",
       "    </tr>\n",
       "    <tr>\n",
       "      <th>3</th>\n",
       "      <td>49430</td>\n",
       "      <td>Lamont</td>\n",
       "      <td>MI</td>\n",
       "      <td>43.010337</td>\n",
       "      <td>-85.89754</td>\n",
       "      <td>-5</td>\n",
       "      <td>1</td>\n",
       "      <td>43.010337,-85.89754</td>\n",
       "    </tr>\n",
       "    <tr>\n",
       "      <th>4</th>\n",
       "      <td>52585</td>\n",
       "      <td>Richland</td>\n",
       "      <td>IA</td>\n",
       "      <td>41.194129</td>\n",
       "      <td>-91.98027</td>\n",
       "      <td>-6</td>\n",
       "      <td>1</td>\n",
       "      <td>41.194129,-91.98027</td>\n",
       "    </tr>\n",
       "  </tbody>\n",
       "</table>\n",
       "</div>"
      ],
      "text/plain": [
       "     Zip      City State   Latitude  Longitude  Timezone  \\\n",
       "0  71937      Cove    AR  34.398483  -94.39398        -6   \n",
       "1  72044  Edgemont    AR  35.624351  -92.16056        -6   \n",
       "2  56171  Sherburn    MN  43.660847  -94.74357        -6   \n",
       "3  49430    Lamont    MI  43.010337  -85.89754        -5   \n",
       "4  52585  Richland    IA  41.194129  -91.98027        -6   \n",
       "\n",
       "   Daylight savings time flag             geopoint  \n",
       "0                           1  34.398483,-94.39398  \n",
       "1                           1  35.624351,-92.16056  \n",
       "2                           1  43.660847,-94.74357  \n",
       "3                           1  43.010337,-85.89754  \n",
       "4                           1  41.194129,-91.98027  "
      ]
     },
     "execution_count": 110,
     "metadata": {},
     "output_type": "execute_result"
    }
   ],
   "source": [
    "zipmap.head()"
   ]
  },
  {
   "cell_type": "markdown",
   "metadata": {},
   "source": [
    "zipcode Lat Long data from\n",
    "https://public.opendatasoft.com/explore/dataset/us-zip-code-latitude-and-longitude/export/\n"
   ]
  },
  {
   "cell_type": "markdown",
   "metadata": {},
   "source": [
    "new = zipmap1['geopoint'].str.split(',', n= 1, expand = True)"
   ]
  },
  {
   "cell_type": "markdown",
   "metadata": {},
   "source": [
    "zipmap1['Long_z'] = new[0]"
   ]
  },
  {
   "cell_type": "markdown",
   "metadata": {},
   "source": [
    "zipmap1['Lat_z'] = new[1]"
   ]
  },
  {
   "cell_type": "code",
   "execution_count": 70,
   "metadata": {},
   "outputs": [],
   "source": [
    "zipmap['tmp'] = 1"
   ]
  },
  {
   "cell_type": "code",
   "execution_count": 71,
   "metadata": {},
   "outputs": [
    {
     "name": "stderr",
     "output_type": "stream",
     "text": [
      "/Users/hong/anaconda3/lib/python3.6/site-packages/ipykernel_launcher.py:1: SettingWithCopyWarning: \n",
      "A value is trying to be set on a copy of a slice from a DataFrame.\n",
      "Try using .loc[row_indexer,col_indexer] = value instead\n",
      "\n",
      "See the caveats in the documentation: http://pandas.pydata.org/pandas-docs/stable/indexing.html#indexing-view-versus-copy\n",
      "  \"\"\"Entry point for launching an IPython kernel.\n"
     ]
    }
   ],
   "source": [
    "df3['tmp'] = 1"
   ]
  },
  {
   "cell_type": "markdown",
   "metadata": {},
   "source": [
    "####  join Case with Map"
   ]
  },
  {
   "cell_type": "code",
   "execution_count": 72,
   "metadata": {},
   "outputs": [],
   "source": [
    "df4 = df3.merge(zipmap, on = 'tmp',how = 'outer')"
   ]
  },
  {
   "cell_type": "code",
   "execution_count": 73,
   "metadata": {},
   "outputs": [
    {
     "data": {
      "text/plain": [
       "US    45523314\n",
       "Name: Country/Region, dtype: int64"
      ]
     },
     "execution_count": 73,
     "metadata": {},
     "output_type": "execute_result"
    }
   ],
   "source": [
    "df4['Country/Region'].value_counts()"
   ]
  },
  {
   "cell_type": "code",
   "execution_count": 74,
   "metadata": {},
   "outputs": [
    {
     "data": {
      "text/plain": [
       "(45523314, 15)"
      ]
     },
     "execution_count": 74,
     "metadata": {},
     "output_type": "execute_result"
    }
   ],
   "source": [
    "df4.shape"
   ]
  },
  {
   "cell_type": "code",
   "execution_count": 75,
   "metadata": {},
   "outputs": [
    {
     "data": {
      "text/html": [
       "<div>\n",
       "<style scoped>\n",
       "    .dataframe tbody tr th:only-of-type {\n",
       "        vertical-align: middle;\n",
       "    }\n",
       "\n",
       "    .dataframe tbody tr th {\n",
       "        vertical-align: top;\n",
       "    }\n",
       "\n",
       "    .dataframe thead th {\n",
       "        text-align: right;\n",
       "    }\n",
       "</style>\n",
       "<table border=\"1\" class=\"dataframe\">\n",
       "  <thead>\n",
       "    <tr style=\"text-align: right;\">\n",
       "      <th></th>\n",
       "      <th>Province/State</th>\n",
       "      <th>Country/Region</th>\n",
       "      <th>Lat</th>\n",
       "      <th>Long</th>\n",
       "      <th>period</th>\n",
       "      <th>case_counts</th>\n",
       "      <th>tmp</th>\n",
       "      <th>Zip</th>\n",
       "      <th>City</th>\n",
       "      <th>State</th>\n",
       "      <th>Latitude</th>\n",
       "      <th>Longitude</th>\n",
       "      <th>Timezone</th>\n",
       "      <th>Daylight savings time flag</th>\n",
       "      <th>geopoint</th>\n",
       "    </tr>\n",
       "  </thead>\n",
       "  <tbody>\n",
       "    <tr>\n",
       "      <th>0</th>\n",
       "      <td>King County, WA</td>\n",
       "      <td>US</td>\n",
       "      <td>47.6062</td>\n",
       "      <td>-122.3321</td>\n",
       "      <td>1/22/20</td>\n",
       "      <td>1</td>\n",
       "      <td>1</td>\n",
       "      <td>71937</td>\n",
       "      <td>Cove</td>\n",
       "      <td>AR</td>\n",
       "      <td>34.398483</td>\n",
       "      <td>-94.39398</td>\n",
       "      <td>-6</td>\n",
       "      <td>1</td>\n",
       "      <td>34.398483,-94.39398</td>\n",
       "    </tr>\n",
       "    <tr>\n",
       "      <th>1</th>\n",
       "      <td>King County, WA</td>\n",
       "      <td>US</td>\n",
       "      <td>47.6062</td>\n",
       "      <td>-122.3321</td>\n",
       "      <td>1/22/20</td>\n",
       "      <td>1</td>\n",
       "      <td>1</td>\n",
       "      <td>72044</td>\n",
       "      <td>Edgemont</td>\n",
       "      <td>AR</td>\n",
       "      <td>35.624351</td>\n",
       "      <td>-92.16056</td>\n",
       "      <td>-6</td>\n",
       "      <td>1</td>\n",
       "      <td>35.624351,-92.16056</td>\n",
       "    </tr>\n",
       "    <tr>\n",
       "      <th>2</th>\n",
       "      <td>King County, WA</td>\n",
       "      <td>US</td>\n",
       "      <td>47.6062</td>\n",
       "      <td>-122.3321</td>\n",
       "      <td>1/22/20</td>\n",
       "      <td>1</td>\n",
       "      <td>1</td>\n",
       "      <td>56171</td>\n",
       "      <td>Sherburn</td>\n",
       "      <td>MN</td>\n",
       "      <td>43.660847</td>\n",
       "      <td>-94.74357</td>\n",
       "      <td>-6</td>\n",
       "      <td>1</td>\n",
       "      <td>43.660847,-94.74357</td>\n",
       "    </tr>\n",
       "    <tr>\n",
       "      <th>3</th>\n",
       "      <td>King County, WA</td>\n",
       "      <td>US</td>\n",
       "      <td>47.6062</td>\n",
       "      <td>-122.3321</td>\n",
       "      <td>1/22/20</td>\n",
       "      <td>1</td>\n",
       "      <td>1</td>\n",
       "      <td>49430</td>\n",
       "      <td>Lamont</td>\n",
       "      <td>MI</td>\n",
       "      <td>43.010337</td>\n",
       "      <td>-85.89754</td>\n",
       "      <td>-5</td>\n",
       "      <td>1</td>\n",
       "      <td>43.010337,-85.89754</td>\n",
       "    </tr>\n",
       "    <tr>\n",
       "      <th>4</th>\n",
       "      <td>King County, WA</td>\n",
       "      <td>US</td>\n",
       "      <td>47.6062</td>\n",
       "      <td>-122.3321</td>\n",
       "      <td>1/22/20</td>\n",
       "      <td>1</td>\n",
       "      <td>1</td>\n",
       "      <td>52585</td>\n",
       "      <td>Richland</td>\n",
       "      <td>IA</td>\n",
       "      <td>41.194129</td>\n",
       "      <td>-91.98027</td>\n",
       "      <td>-6</td>\n",
       "      <td>1</td>\n",
       "      <td>41.194129,-91.98027</td>\n",
       "    </tr>\n",
       "  </tbody>\n",
       "</table>\n",
       "</div>"
      ],
      "text/plain": [
       "    Province/State Country/Region      Lat      Long   period  case_counts  \\\n",
       "0  King County, WA             US  47.6062 -122.3321  1/22/20            1   \n",
       "1  King County, WA             US  47.6062 -122.3321  1/22/20            1   \n",
       "2  King County, WA             US  47.6062 -122.3321  1/22/20            1   \n",
       "3  King County, WA             US  47.6062 -122.3321  1/22/20            1   \n",
       "4  King County, WA             US  47.6062 -122.3321  1/22/20            1   \n",
       "\n",
       "   tmp    Zip      City State   Latitude  Longitude  Timezone  \\\n",
       "0    1  71937      Cove    AR  34.398483  -94.39398        -6   \n",
       "1    1  72044  Edgemont    AR  35.624351  -92.16056        -6   \n",
       "2    1  56171  Sherburn    MN  43.660847  -94.74357        -6   \n",
       "3    1  49430    Lamont    MI  43.010337  -85.89754        -5   \n",
       "4    1  52585  Richland    IA  41.194129  -91.98027        -6   \n",
       "\n",
       "   Daylight savings time flag             geopoint  \n",
       "0                           1  34.398483,-94.39398  \n",
       "1                           1  35.624351,-92.16056  \n",
       "2                           1  43.660847,-94.74357  \n",
       "3                           1  43.010337,-85.89754  \n",
       "4                           1  41.194129,-91.98027  "
      ]
     },
     "execution_count": 75,
     "metadata": {},
     "output_type": "execute_result"
    }
   ],
   "source": [
    "df4.head()"
   ]
  },
  {
   "cell_type": "markdown",
   "metadata": {},
   "source": [
    "df4['distance'] = math.sqrt(pow(df4['Lat'] - df4['Latitude'], 2) + pow(df4['Long'] - df4['Longitude'], 2))"
   ]
  },
  {
   "cell_type": "code",
   "execution_count": 76,
   "metadata": {},
   "outputs": [],
   "source": [
    "df4['distance'] = pow(df4['Lat'] - df4['Latitude'], 2) + pow(df4['Long'] - df4['Longitude'], 2)"
   ]
  },
  {
   "cell_type": "code",
   "execution_count": 77,
   "metadata": {},
   "outputs": [],
   "source": [
    "df5 = df4[df4['distance'] <2.89]"
   ]
  },
  {
   "cell_type": "code",
   "execution_count": 78,
   "metadata": {},
   "outputs": [
    {
     "data": {
      "text/plain": [
       "(858188, 16)"
      ]
     },
     "execution_count": 78,
     "metadata": {},
     "output_type": "execute_result"
    }
   ],
   "source": [
    "df5.shape"
   ]
  },
  {
   "cell_type": "code",
   "execution_count": 79,
   "metadata": {},
   "outputs": [
    {
     "data": {
      "text/plain": [
       "(45523314, 16)"
      ]
     },
     "execution_count": 79,
     "metadata": {},
     "output_type": "execute_result"
    }
   ],
   "source": [
    "df4.shape"
   ]
  },
  {
   "cell_type": "markdown",
   "metadata": {},
   "source": []
  },
  {
   "cell_type": "code",
   "execution_count": 80,
   "metadata": {},
   "outputs": [],
   "source": [
    "df5.to_csv('zipaffected_' + filename + '_' + dt + '.csv')"
   ]
  },
  {
   "cell_type": "markdown",
   "metadata": {},
   "source": [
    "# National Level"
   ]
  },
  {
   "cell_type": "code",
   "execution_count": 38,
   "metadata": {},
   "outputs": [],
   "source": [
    "df_national = df3.groupby(['period'])['case_counts'].agg('sum')"
   ]
  },
  {
   "cell_type": "code",
   "execution_count": 39,
   "metadata": {},
   "outputs": [],
   "source": [
    "df_national.to_csv(country + '_' + filename + \"_\" + dt + \"_national.csv\", header = True, index = True)"
   ]
  }
 ],
 "metadata": {
  "kernelspec": {
   "display_name": "Python 3",
   "language": "python",
   "name": "python3"
  },
  "language_info": {
   "codemirror_mode": {
    "name": "ipython",
    "version": 3
   },
   "file_extension": ".py",
   "mimetype": "text/x-python",
   "name": "python",
   "nbconvert_exporter": "python",
   "pygments_lexer": "ipython3",
   "version": "3.6.5"
  }
 },
 "nbformat": 4,
 "nbformat_minor": 2
}
